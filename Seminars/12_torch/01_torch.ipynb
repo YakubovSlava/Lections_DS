{
 "cells": [
  {
   "cell_type": "markdown",
   "id": "4f354580-9df6-499c-b91a-5042a08a9f40",
   "metadata": {},
   "source": [
    "# Введение в нейронные сети\n",
    "## Фреймворк PyTorch\n",
    "- <https://pytorch.org/docs/stable/index.html>"
   ]
  },
  {
   "cell_type": "code",
   "execution_count": null,
   "id": "54c7b957-b6f4-45e0-9af1-ad14ba23122f",
   "metadata": {},
   "outputs": [],
   "source": [
    "import torch"
   ]
  },
  {
   "cell_type": "code",
   "execution_count": null,
   "id": "0389628b-786c-4848-ada2-6c1ac7f36fe1",
   "metadata": {},
   "outputs": [],
   "source": [
    "x = torch.tensor([1, 2, 3])\n",
    "y = torch.tensor([2, 3, 4])"
   ]
  },
  {
   "cell_type": "code",
   "execution_count": null,
   "id": "9e124548-f8df-4efc-ac6e-50fbe98373c4",
   "metadata": {},
   "outputs": [],
   "source": [
    "x * y"
   ]
  },
  {
   "cell_type": "code",
   "execution_count": null,
   "id": "2aedb676-8313-42f0-929c-23bb66a79ba5",
   "metadata": {},
   "outputs": [],
   "source": [
    "x @ y"
   ]
  },
  {
   "cell_type": "code",
   "execution_count": null,
   "id": "f2e1614f-4b30-4e6a-b50b-07a04cb54281",
   "metadata": {},
   "outputs": [],
   "source": [
    "x = torch.tensor([1, 2, 3], dtype=torch.float32, requires_grad=True)\n",
    "y = torch.tensor([2, 3, 4], dtype=torch.float32, requires_grad=True)\n",
    "z = x @ y\n",
    "z.backward()\n",
    "x.grad, y.grad"
   ]
  },
  {
   "cell_type": "code",
   "execution_count": null,
   "id": "fe5a41c3-c2aa-4552-9c1d-71ea5a3d7f58",
   "metadata": {},
   "outputs": [],
   "source": [
    "x = torch.tensor([1, 2, 3], dtype=torch.float32, requires_grad=True)\n",
    "y = torch.tensor([1, 3, 1], dtype=torch.float32)"
   ]
  },
  {
   "cell_type": "code",
   "execution_count": null,
   "id": "6152f377-472a-496c-bbb3-4a00d3e1b24d",
   "metadata": {},
   "outputs": [],
   "source": [
    "loss = ((x - y) ** 2).sum()\n",
    "loss"
   ]
  },
  {
   "cell_type": "code",
   "execution_count": null,
   "id": "0f121d71-3bc2-4478-bf2d-fa07c57584a2",
   "metadata": {},
   "outputs": [],
   "source": [
    "loss.backward()\n",
    "x.grad, 2 * (x - y)"
   ]
  },
  {
   "cell_type": "code",
   "execution_count": null,
   "id": "d94fa34d-c4bc-492c-a7e3-92ec7a373682",
   "metadata": {},
   "outputs": [],
   "source": [
    "w = torch.randn((1, 10), requires_grad=True)\n",
    "b = torch.randn(1, requires_grad=True)\n",
    "X = torch.randn((100, 10))\n",
    "y = torch.randint(0, 1, size=(100, 1), dtype=torch.float32)"
   ]
  },
  {
   "cell_type": "code",
   "execution_count": null,
   "id": "588506b2-deae-4012-a3d4-bf46d6611816",
   "metadata": {},
   "outputs": [],
   "source": [
    "y_pred = (X @ w.T + b).sigmoid()"
   ]
  },
  {
   "cell_type": "code",
   "execution_count": null,
   "id": "a6ffd8e9-8186-4201-b1c7-5aa9cca58c28",
   "metadata": {},
   "outputs": [],
   "source": [
    "criterion = torch.nn.BCELoss()\n",
    "loss = criterion(y_pred, y)\n",
    "print(loss)\n",
    "loss.backward()"
   ]
  },
  {
   "cell_type": "code",
   "execution_count": null,
   "id": "4b22fc0c-c685-4e6d-a409-1c2fed11772d",
   "metadata": {},
   "outputs": [],
   "source": [
    "w.grad, b.grad"
   ]
  },
  {
   "cell_type": "code",
   "execution_count": null,
   "id": "11fe5901-f612-498f-b2e3-f301ba6c65c7",
   "metadata": {},
   "outputs": [],
   "source": [
    "w = torch.randn((1, 10), requires_grad=True)\n",
    "b = torch.randn(1, requires_grad=True)\n",
    "\n",
    "for i in range(X.shape[0]):\n",
    "    y_pred = (X[i] @ w.T + b).sigmoid()\n",
    "    loss = criterion(y_pred, y[i])\n",
    "    loss.backward()\n",
    "    \n",
    "    w.data -= 0.1 * w.grad\n",
    "    b.data -= 0.1 * b.grad\n",
    "    w.grad.zero_()\n",
    "    b.grad.zero_()"
   ]
  },
  {
   "cell_type": "code",
   "execution_count": null,
   "id": "7aabcb1a-8a8c-4815-9e42-ed6333c2cdf3",
   "metadata": {},
   "outputs": [],
   "source": [
    "y_pred = (X @ w.T + b).sigmoid()\n",
    "loss = criterion(y_pred, y)\n",
    "print(loss)"
   ]
  },
  {
   "cell_type": "code",
   "execution_count": null,
   "id": "5081b1c5-fa45-43c4-a39f-1f5608dfb404",
   "metadata": {},
   "outputs": [],
   "source": []
  }
 ],
 "metadata": {
  "kernelspec": {
   "display_name": "Python 3 (ipykernel)",
   "language": "python",
   "name": "python3"
  },
  "language_info": {
   "codemirror_mode": {
    "name": "ipython",
    "version": 3
   },
   "file_extension": ".py",
   "mimetype": "text/x-python",
   "name": "python",
   "nbconvert_exporter": "python",
   "pygments_lexer": "ipython3",
   "version": "3.12.9"
  },
  "widgets": {
   "application/vnd.jupyter.widget-state+json": {
    "state": {},
    "version_major": 2,
    "version_minor": 0
   }
  }
 },
 "nbformat": 4,
 "nbformat_minor": 5
}
